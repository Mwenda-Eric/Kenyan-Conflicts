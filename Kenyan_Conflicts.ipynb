{
 "cells": [
  {
   "cell_type": "code",
   "execution_count": 1,
   "id": "dd0db7dd",
   "metadata": {},
   "outputs": [
    {
     "name": "stdout",
     "output_type": "stream",
     "text": [
      "Group Members\n",
      "Richard Kimanzi\n",
      "Evelyn Wachira\n",
      "Dedan Cherori\n",
      "Eric Mwenda\n"
     ]
    }
   ],
   "source": [
    "print(\"Group Members\")\n",
    "print(\"Richard Kimanzi\")\n",
    "print(\"Evelyn Wachira\")\n",
    "print(\"Dedan Cherori\")\n",
    "print(\"Eric Mwenda\")"
   ]
  },
  {
   "cell_type": "code",
   "execution_count": null,
   "id": "1f920067",
   "metadata": {},
   "outputs": [],
   "source": []
  }
 ],
 "metadata": {
  "kernelspec": {
   "display_name": "test_environment",
   "language": "python",
   "name": "test_environment"
  },
  "language_info": {
   "codemirror_mode": {
    "name": "ipython",
    "version": 3
   },
   "file_extension": ".py",
   "mimetype": "text/x-python",
   "name": "python",
   "nbconvert_exporter": "python",
   "pygments_lexer": "ipython3",
   "version": "3.11.7"
  }
 },
 "nbformat": 4,
 "nbformat_minor": 5
}
